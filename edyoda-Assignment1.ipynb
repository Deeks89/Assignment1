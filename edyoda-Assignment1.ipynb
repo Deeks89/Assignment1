{
 "cells": [
  {
   "cell_type": "code",
   "execution_count": 40,
   "metadata": {},
   "outputs": [
    {
     "name": "stdout",
     "output_type": "stream",
     "text": [
      "Currency Count: \n",
      "2000  :  1\n",
      "100  :  3\n",
      "20  :  2\n"
     ]
    }
   ],
   "source": [
    "def count(amount): \n",
    "      \n",
    "    notes = [2000, 500, 100, 50, 20, 10] \n",
    "                 \n",
    "    noteCount = [0, 0, 0, 0, 0, 0] \n",
    "      \n",
    "    print (\"Currency Count: \") \n",
    "      \n",
    "    for i, j in zip(notes, noteCount): \n",
    "        if amount >= i: \n",
    "            j = amount // i \n",
    "            amount = amount - j * i \n",
    "            print (i ,\" : \", j) \n",
    "count(2340)  "
   ]
  },
  {
   "cell_type": "code",
   "execution_count": 92,
   "metadata": {},
   "outputs": [
    {
     "name": "stdout",
     "output_type": "stream",
     "text": [
      "c has the highest frequency of 8\n"
     ]
    }
   ],
   "source": [
    "\n",
    "string = \"aaabbbacaccccccc\"\n",
    "substring = string.strip()\n",
    "max_char = \" \"\n",
    "max_count = 0\n",
    "for i in substring:\n",
    "    count = substring.count(i)\n",
    "    if max_count<count:\n",
    "        max_count=count\n",
    "        max_char=i\n",
    "    \n",
    "print(\"{1} has the highest frequency of {0}\".format(max_count,max_char))"
   ]
  },
  {
   "cell_type": "code",
   "execution_count": 119,
   "metadata": {},
   "outputs": [
    {
     "name": "stdout",
     "output_type": "stream",
     "text": [
      "[1, 3, 5]\n"
     ]
    }
   ],
   "source": [
    "\n",
    "arr = [1, 3, 5, 4, 2]  \n",
    "new_arr =[]\n",
    "    \n",
    "\n",
    "\n",
    "for index,v in enumerate(arr,0):\n",
    "   \n",
    "   \n",
    "    prev_val = v\n",
    "    for j in range(index+1,5):  \n",
    "        \n",
    "        curr_val = j\n",
    "        sum = prev_val + curr_val\n",
    "  \n",
    "        if (sum % 2==1):\n",
    "                new_arr.append(prev_val)\n",
    "            \n",
    "kk= set(new_arr)\n",
    "print(list(kk))\n",
    "        \n",
    "      \n",
    "   \n",
    "  \n",
    "\n"
   ]
  },
  {
   "cell_type": "code",
   "execution_count": 152,
   "metadata": {},
   "outputs": [
    {
     "name": "stdout",
     "output_type": "stream",
     "text": [
      "{'Concord': 'Massachusetts', 'Hanover': 'New Hampshire', 'Boston': 'Massachusetts', 'Springfield': 'Illinois', 'Chicago': 'Illinois', 'Peoria': 'Illinois'}\n"
     ]
    }
   ],
   "source": [
    "states = {'New Hampshire': ['Concord', 'Hanover'],'Massachusetts': ['Boston', 'Concord', 'Springfield'],'Illinois': ['Chicago', 'Springfield', 'Peoria'] }\n",
    "d={}\n",
    "for k,v in states.items():\n",
    "    for v1 in v:\n",
    "        if v1 in v[:]:\n",
    "            d[v1]=k\n",
    "        \n",
    "print(d)"
   ]
  },
  {
   "cell_type": "code",
   "execution_count": 186,
   "metadata": {},
   "outputs": [],
   "source": [
    "restaurants = [ [ 'Acme', 'Italian', 2, 4, 3, 5],[ 'Flintstone', 'Steak', 5, 2, 4, 3, 3, 4],[ 'BellaTroy', 'Italian', 1, 4, 5] ]\n",
    "for v in restaurants:\n",
    "    if v[1]=='Italian' and v[2:]=='5' and v[2:]!='1':\n",
    "        \n",
    "        print(v[0])\n",
    "        \n",
    "    \n",
    "    "
   ]
  },
  {
   "cell_type": "code",
   "execution_count": 242,
   "metadata": {},
   "outputs": [
    {
     "name": "stdout",
     "output_type": "stream",
     "text": [
      "[]\n"
     ]
    }
   ],
   "source": [
    "elements={2:[\"a\",\"b\",\"c\"],3:[\"d\",\"e\",\"f\"],4:[\"g\",\"h\",\"i\"],5:[\"j\",\"k\",\"l\"],6:[\"m\",\"n\",\"o\"],7:[\"p\",\"q\",\"r\",\"s\"],8:[\"t\",\"u\",\"v\"],9:[\"w\",\"x\",\"y\",\"z\"]}\n",
    "num = '9999'\n",
    "n=list(num)\n",
    "v9=[]\n",
    "for element,val in elements.items():\n",
    "    if n == element:\n",
    "        v9=  val.append(v)\n",
    "        \n",
    "print(v9)      "
   ]
  },
  {
   "cell_type": "code",
   "execution_count": 220,
   "metadata": {},
   "outputs": [],
   "source": []
  },
  {
   "cell_type": "code",
   "execution_count": null,
   "metadata": {},
   "outputs": [],
   "source": []
  }
 ],
 "metadata": {
  "kernelspec": {
   "display_name": "Python 3",
   "language": "python",
   "name": "python3"
  },
  "language_info": {
   "codemirror_mode": {
    "name": "ipython",
    "version": 3
   },
   "file_extension": ".py",
   "mimetype": "text/x-python",
   "name": "python",
   "nbconvert_exporter": "python",
   "pygments_lexer": "ipython3",
   "version": "3.7.3"
  }
 },
 "nbformat": 4,
 "nbformat_minor": 2
}
